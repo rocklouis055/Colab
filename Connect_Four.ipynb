{
  "nbformat": 4,
  "nbformat_minor": 0,
  "metadata": {
    "colab": {
      "name": "Connect Four.ipynb",
      "provenance": [],
      "collapsed_sections": [],
      "authorship_tag": "ABX9TyNf2AWdC1Kmf0OrT93D13wu",
      "include_colab_link": true
    },
    "kernelspec": {
      "name": "python3",
      "display_name": "Python 3"
    },
    "language_info": {
      "name": "python"
    }
  },
  "cells": [
    {
      "cell_type": "markdown",
      "metadata": {
        "id": "view-in-github",
        "colab_type": "text"
      },
      "source": [
        "<a href=\"https://colab.research.google.com/github/rocklouis055/Colab/blob/main/Connect_Four.ipynb\" target=\"_parent\"><img src=\"https://colab.research.google.com/assets/colab-badge.svg\" alt=\"Open In Colab\"/></a>"
      ]
    },
    {
      "cell_type": "code",
      "execution_count": null,
      "metadata": {
        "id": "2VEdbUeYmEb6"
      },
      "outputs": [],
      "source": [
        "from pprint import pprint\n",
        "import numpy as np\n",
        "n_rows_ = 4\n",
        "n_columns_ = 5\n",
        "hcount=[]\n",
        "vcount=[]\n",
        "ltrdcount=[]\n",
        "rtldcount=[]\n",
        "dt=[(0,2),(1,2),(2,1),(3,1),(4,2),(1,1),(2,1),(3,2),(0,2),(4,2),(4,2),(1,1),(3,1),(0,2),(2,1),(0,2),(1,1),(2,2),(4,1),(3,2)]\n",
        "symbol={True: 'x', False: 'o'}"
      ]
    },
    {
      "cell_type": "code",
      "source": [
        "def init_field(rows=n_rows_, columns=n_columns_):\n",
        "  \"\"\"\n",
        "  Intialize field\n",
        "  :param rows: number of rows\n",
        "  :param columns: number of columns\n",
        "  :return: list of lists\n",
        "  \"\"\"\n",
        "  global hcount,vcount,ltrdcount,rtldcount\n",
        "  hcount=[0,0,0]\n",
        "  vcount=[[0]*(columns+1),[0]*(columns+1)]\n",
        "  ltrdcount=[[0]*(columns+1),[0]*(columns+1)]\n",
        "  rtldcount=[[0]*(columns+1),[0]*(columns+1)]\n",
        "  field=np.full((rows, columns),'.')\n",
        "  tokens=[rows-1]*columns\n",
        "  return(field,tokens)\n"
      ],
      "metadata": {
        "id": "KNn6TU2_nQyN"
      },
      "execution_count": null,
      "outputs": []
    },
    {
      "cell_type": "code",
      "source": [
        "def drop_token(field, col, player, symbol={True: 'x', False: 'o'}):\n",
        "  \"\"\"\n",
        "  Modify field with player's choice to drop a token into a specific column\n",
        "  :param field: Two-dimensional object\n",
        "  :param col: Column to drop token to\n",
        "  :param player: Player, whose token is dropped\n",
        "  :param symbol: dictionary mapping player to token symbol. True refers to player 1,\n",
        "  ,→ False to player 2 (not player 1).\n",
        "  :return: None\n",
        "  \"\"\"\n",
        "  global tokens\n",
        "  if tokens[col]>-1:\n",
        "    field[tokens[col]][col]=symbol[player==1]\n",
        "    tokens[col]-=1\n",
        "  \n",
        "  "
      ],
      "metadata": {
        "id": "mxQPGQgYolHu"
      },
      "execution_count": null,
      "outputs": []
    },
    {
      "cell_type": "code",
      "source": [
        "field, tokens = init_field()\n",
        "\n",
        "\n",
        "\n",
        "print(field,tokens)\n",
        "game_is_won(field, void='.')\n"
      ],
      "metadata": {
        "colab": {
          "base_uri": "https://localhost:8080/",
          "height": 269
        },
        "id": "KAXtkMFztoaN",
        "outputId": "d5e312ab-dd13-46bc-f147-f8e6c7d347bf"
      },
      "execution_count": null,
      "outputs": [
        {
          "output_type": "stream",
          "name": "stdout",
          "text": [
            "[['.' '.' '.' '.' '.']\n",
            " ['.' '.' '.' '.' '.']\n",
            " ['.' '.' '.' '.' '.']\n",
            " ['.' '.' '.' '.' '.']] [3, 3, 3, 3, 3]\n"
          ]
        },
        {
          "output_type": "error",
          "ename": "NameError",
          "evalue": "ignored",
          "traceback": [
            "\u001b[0;31m---------------------------------------------------------------------------\u001b[0m",
            "\u001b[0;31mNameError\u001b[0m                                 Traceback (most recent call last)",
            "\u001b[0;32m<ipython-input-4-4c9c7ec9afb1>\u001b[0m in \u001b[0;36m<module>\u001b[0;34m()\u001b[0m\n\u001b[1;32m      4\u001b[0m \u001b[0;34m\u001b[0m\u001b[0m\n\u001b[1;32m      5\u001b[0m \u001b[0mprint\u001b[0m\u001b[0;34m(\u001b[0m\u001b[0mfield\u001b[0m\u001b[0;34m,\u001b[0m\u001b[0mtokens\u001b[0m\u001b[0;34m)\u001b[0m\u001b[0;34m\u001b[0m\u001b[0;34m\u001b[0m\u001b[0m\n\u001b[0;32m----> 6\u001b[0;31m \u001b[0mgame_is_won\u001b[0m\u001b[0;34m(\u001b[0m\u001b[0mfield\u001b[0m\u001b[0;34m,\u001b[0m \u001b[0mvoid\u001b[0m\u001b[0;34m=\u001b[0m\u001b[0;34m'.'\u001b[0m\u001b[0;34m)\u001b[0m\u001b[0;34m\u001b[0m\u001b[0;34m\u001b[0m\u001b[0m\n\u001b[0m",
            "\u001b[0;31mNameError\u001b[0m: name 'game_is_won' is not defined"
          ]
        }
      ]
    },
    {
      "cell_type": "code",
      "source": [
        "def game_is_won(field, void='.'):\n",
        "  \"\"\"\n",
        "  Test if field indicates that one of the players has won the game.\n",
        "  :param field: Double indexed object\n",
        "  :return: bool\n",
        "  \"\"\"\n",
        "  s=0\n",
        "  t=0\n",
        "  global n_columns_,n_rows,hcount,vcount,ltrdcount,rtldcount\n",
        "  c=n_columns_\n",
        "  for i in range(n_rows_-1,-1,-1):\n",
        "    hcount[0],hcount[1]=0,0\n",
        "    for j in range(c):\n",
        "      if i==n_rows_-1:\n",
        "        ltrdcount[0][j],ltrdcount[1][j]=0,0\n",
        "        rtldcount[0][j],rtldcount[1][j]=0,0\n",
        "        vcount[0][j],vcount[1][j]=0,0\n",
        "      if field[i][j]=='x':\n",
        "        ltrdcount[0][s%c]+=1\n",
        "        rtldcount[0][t%c]+=1\n",
        "        vcount[0][j]+=1\n",
        "        hcount[0]+=1\n",
        "        if (ltrdcount[0][s%c]==4 or rtldcount[0][t%c]==4 or vcount[0][j]==4 or hcount[0]==4):\n",
        "          return(1)\n",
        "        ltrdcount[1][s%c],rtldcount[1][t%c],vcount[1][j],hcount[1]=0,0,0,0\n",
        "      elif field[i][j]=='o':\n",
        "        ltrdcount[1][s%c]+=1\n",
        "        rtldcount[1][t%c]+=1\n",
        "        vcount[1][j]+=1\n",
        "        hcount[1]+=1\n",
        "        if (ltrdcount[1][s%c]==4 or rtldcount[1][t%c]==4 or vcount[1][j]==4 or hcount[1]==4):\n",
        "          return(2)\n",
        "        ltrdcount[0][s%c],rtldcount[0][t%c],vcount[0][j],hcount[0]=0,0,0,0\n",
        "      else:\n",
        "        ltrdcount[0][s%c],rtldcount[0][t%c],vcount[0][j],hcount[0]=0,0,0,0\n",
        "        ltrdcount[1][s%c],rtldcount[1][t%c],vcount[1][j],hcount[1]=0,0,0,0\n",
        "      s+=1\n",
        "      t+=1\n",
        "      #print(hcount,vcount,ltrdcount,rtldcount)\n",
        "    s-=1\n",
        "    t+=1"
      ],
      "metadata": {
        "id": "W10H1nIComO2"
      },
      "execution_count": null,
      "outputs": []
    },
    {
      "cell_type": "code",
      "source": [
        "def play(field, tokens):\n",
        "  \"\"\"\n",
        "  Play connect four starting with an intialised field and a corresponding list of\n",
        "  ,→ token numbers per column.\n",
        "  :param field: Object with two indexable dimensions\n",
        "  :param tokens: List of token numbers per column\n",
        "  :return: Winner of the game\n",
        "  \"\"\"\n",
        "  for i,j in dt:\n",
        "    drop_token(field,i,j)\n",
        "  pprint(field)\n",
        "  return(game_is_won(field, void='.'))\n"
      ],
      "metadata": {
        "id": "upanQUgHo2ib"
      },
      "execution_count": null,
      "outputs": []
    },
    {
      "cell_type": "code",
      "source": [
        "def play2(field,tokens):\n",
        "  for i,j in dt:\n",
        "    drop_token(field,i,j)\n",
        "    p=game_is_won2(field,i,j,tokens)\n",
        "    print(\"p\",p)\n",
        "    if p!=0:\n",
        "      break\n",
        "  return(p)"
      ],
      "metadata": {
        "id": "Zr5AcMYOFuyO"
      },
      "execution_count": null,
      "outputs": []
    },
    {
      "cell_type": "code",
      "source": [
        "def game_is_won2(field,i,j,tokens):\n",
        "  f1,f2,c=0,0,0\n",
        "  global n_rows_ \n",
        "  global symbol\n",
        "  print(\"abc\")\n",
        "  m,n=tokens[i]+1,i\n",
        "  while(not f1):\n",
        "    if (m<n_rows_):\n",
        "      print(m,c,n,f1,field[m][n],symbol[j==1],tokens)\n",
        "      if field[m][n]==symbol[j==1]:\n",
        "        c+=1\n",
        "        if m<n_rows_-1:\n",
        "          m+=1\n",
        "        elif c==4:\n",
        "          return(j)\n",
        "        else:\n",
        "          f1=1\n",
        "      else:\n",
        "        break\n",
        "    else:\n",
        "      c=0\n",
        "      f1=1\n",
        "\n",
        "  m,n=tokens[i]+1,i\n",
        "  while(not f1):\n",
        "    if (n<n_coloumns_ and n>=0):\n",
        "      print(m,c,n,f1,field[m][n],symbol[j==1],tokens)\n",
        "      if field[m][n]==symbol[j==1]:\n",
        "        c+=1\n",
        "        if m<n_rows_-1:\n",
        "          m+=1\n",
        "        elif c==4:\n",
        "          return(j)\n",
        "        else:\n",
        "          f1=1\n",
        "      else:\n",
        "        break\n",
        "    else:\n",
        "      c=0\n",
        "      f1=1\n",
        "    \n",
        "  return(0)"
      ],
      "metadata": {
        "id": "xcGwz8ccHsVR"
      },
      "execution_count": null,
      "outputs": []
    },
    {
      "cell_type": "code",
      "source": [
        "if __name__ == \"__main__\":\n",
        "  field, tokens = init_field(4,5)\n",
        "  winner = play(field, tokens)\n",
        "  print(f\"Player {winner} wins the game. Congratulations!\")\n",
        "\n",
        "  #field, tokens = init_field(4,5)\n",
        "  #winner = play2(field, tokens)\n",
        "  #pprint(field)\n",
        "  #print(f\"Player {winner} wins the game. Congratulations!\")\n"
      ],
      "metadata": {
        "colab": {
          "base_uri": "https://localhost:8080/"
        },
        "id": "KA18ZWkroCL_",
        "outputId": "7d4a3e43-a8c8-4e16-c33c-e1a40fac8bca"
      },
      "execution_count": null,
      "outputs": [
        {
          "output_type": "stream",
          "name": "stdout",
          "text": [
            "array([['o', 'x', 'o', 'o', 'x'],\n",
            "       ['o', 'x', 'x', 'x', 'o'],\n",
            "       ['o', 'x', 'x', 'o', 'o'],\n",
            "       ['o', 'o', 'x', 'x', 'o']], dtype='<U1')\n",
            "Player 2 wins the game. Congratulations!\n"
          ]
        }
      ]
    },
    {
      "cell_type": "code",
      "source": [
        "c=0\n",
        "for i in range(3,-1,-1):\n",
        "  for j in range(5):\n",
        "    print(i,j,c%5,end=\"       \")\n",
        "    c+=1\n",
        "  c+=1\n",
        "  print()"
      ],
      "metadata": {
        "colab": {
          "base_uri": "https://localhost:8080/"
        },
        "id": "H_ftAhSmNXPQ",
        "outputId": "55c2c348-69af-4334-93fe-6eb65e38892e"
      },
      "execution_count": null,
      "outputs": [
        {
          "output_type": "stream",
          "name": "stdout",
          "text": [
            "3 0 0       3 1 1       3 2 2       3 3 3       3 4 4       \n",
            "2 0 1       2 1 2       2 2 3       2 3 4       2 4 0       \n",
            "1 0 2       1 1 3       1 2 4       1 3 0       1 4 1       \n",
            "0 0 3       0 1 4       0 2 0       0 3 1       0 4 2       \n"
          ]
        }
      ]
    },
    {
      "cell_type": "code",
      "source": [
        "a=1\n",
        "b=3\n",
        "print(a,b)\n",
        "a,b=+1,2\n",
        "print(a,b)"
      ],
      "metadata": {
        "colab": {
          "base_uri": "https://localhost:8080/"
        },
        "id": "rKhqYlPCZ57I",
        "outputId": "be7c27ee-701a-4ad4-879d-00e224981707"
      },
      "execution_count": null,
      "outputs": [
        {
          "output_type": "stream",
          "name": "stdout",
          "text": [
            "1 3\n",
            "1 2\n"
          ]
        }
      ]
    }
  ]
}